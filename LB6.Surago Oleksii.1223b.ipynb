{
 "cells": [
  {
   "cell_type": "code",
   "execution_count": 1,
   "id": "5ed55565-696b-4d9a-80b2-5852ec6a671f",
   "metadata": {},
   "outputs": [
    {
     "name": "stdin",
     "output_type": "stream",
     "text": [
      "Введіть число N:  18\n"
     ]
    },
    {
     "name": "stdout",
     "output_type": "stream",
     "text": [
      "3^2 + 3^2 = 18\n"
     ]
    }
   ],
   "source": [
    "import math\n",
    "\n",
    "def task_10():\n",
    "    try:\n",
    "        N = int(input(\"Введіть число N: \"))\n",
    "    except ValueError:\n",
    "        return \"Помилка! Введене значення не є цілим числом.\"\n",
    "\n",
    "    found = False\n",
    "    for a in range(0, int(math.sqrt(N)) + 1):\n",
    "        b_square = N - a**2\n",
    "        if b_square >= 0:\n",
    "            b = int(math.sqrt(b_square))\n",
    "            if a**2 + b**2 == N:\n",
    "                print(f\"{a}^2 + {b}^2 = {N}\")\n",
    "                found = True\n",
    "                break\n",
    "    \n",
    "    if not found:\n",
    "        print(f\"Число {N} не можна представити квадратами цілих чисел.\")\n",
    "\n",
    "\n",
    "task_10()"
   ]
  },
  {
   "cell_type": "code",
   "execution_count": null,
   "id": "758ed2fe-d2ff-4324-8a5f-3a515c519524",
   "metadata": {},
   "outputs": [],
   "source": []
  }
 ],
 "metadata": {
  "kernelspec": {
   "display_name": "Python 3 (ipykernel)",
   "language": "python",
   "name": "python3"
  },
  "language_info": {
   "codemirror_mode": {
    "name": "ipython",
    "version": 3
   },
   "file_extension": ".py",
   "mimetype": "text/x-python",
   "name": "python",
   "nbconvert_exporter": "python",
   "pygments_lexer": "ipython3",
   "version": "3.12.5"
  }
 },
 "nbformat": 4,
 "nbformat_minor": 5
}
