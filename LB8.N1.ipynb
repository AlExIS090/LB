{
 "cells": [
  {
   "cell_type": "code",
   "execution_count": 15,
   "id": "d88130d5-ee06-40da-90fe-a8ed60bc3993",
   "metadata": {},
   "outputs": [
    {
     "name": "stdout",
     "output_type": "stream",
     "text": [
      "True\n"
     ]
    }
   ],
   "source": [
    "import os\n",
    "file_path = 'D:/zip'\n",
    "print(os.path.exists(file_path))  "
   ]
  },
  {
   "cell_type": "code",
   "execution_count": 17,
   "id": "9f6488e1-4961-47da-bdf9-6d98b14978c8",
   "metadata": {},
   "outputs": [
    {
     "name": "stdout",
     "output_type": "stream",
     "text": [
      "Файли у папці D:/zip: ['database.sqlite', 'hashes.txt', 'NationalNames.csv', 'NationalReadMe.pdf', 'StateNames.csv', 'StateReadMe.pdf']\n"
     ]
    }
   ],
   "source": [
    "import os\n",
    "\n",
    "dataset_path = 'D:/zip' \n",
    "kaggle_path = 'D:/zip'\n",
    "\n",
    "os.makedirs(kaggle_path, exist_ok=True)\n",
    "\n",
    "if os.path.exists(dataset_path):\n",
    "    print(f\"Файли у папці {dataset_path}: {os.listdir(dataset_path)}\")\n",
    "else:\n",
    "    print(f\"Папка {dataset_path} не існує.\")"
   ]
  },
  {
   "cell_type": "code",
   "execution_count": 20,
   "id": "87fde585-6432-4606-b1d9-7ef8d89bfb4f",
   "metadata": {},
   "outputs": [
    {
     "name": "stdout",
     "output_type": "stream",
     "text": [
      "   Id       Name  Year Gender  Count\n",
      "0   1       Mary  1880      F   7065\n",
      "1   2       Anna  1880      F   2604\n",
      "2   3       Emma  1880      F   2003\n",
      "3   4  Elizabeth  1880      F   1939\n",
      "4   5     Minnie  1880      F   1746\n",
      "5   6   Margaret  1880      F   1578\n",
      "6   7        Ida  1880      F   1472\n",
      "7   8      Alice  1880      F   1414\n"
     ]
    }
   ],
   "source": [
    "#1\n",
    "import pandas as pd\n",
    "\n",
    "\n",
    "file_path = r'D:\\zip\\NationalNames.csv'  \n",
    "data = pd.read_csv(file_path)\n",
    "\n",
    "print(data.head(8))"
   ]
  },
  {
   "cell_type": "code",
   "execution_count": 24,
   "id": "6d35921a-3306-48e6-869e-1ba6b60e1988",
   "metadata": {},
   "outputs": [
    {
     "name": "stdout",
     "output_type": "stream",
     "text": [
      "Імена стовпців набору даних:\n",
      "Index(['Id', 'Name', 'Year', 'Gender', 'State', 'Count'], dtype='object')\n"
     ]
    }
   ],
   "source": [
    "#3\n",
    "import pandas as pd\n",
    "\n",
    "file_path = r'D:\\zip\\StateNames.csv'\n",
    "data = pd.read_csv(file_path)\n",
    "\n",
    "column_names = data.columns\n",
    "\n",
    "print(\"Імена стовпців набору даних:\")\n",
    "print(column_names)"
   ]
  },
  {
   "cell_type": "code",
   "execution_count": 26,
   "id": "623d6989-0403-402b-86f5-8db5a1f4b5a8",
   "metadata": {},
   "outputs": [
    {
     "name": "stdout",
     "output_type": "stream",
     "text": [
      "   Id      Name  Year Gender State  Count\n",
      "0   1      Mary  1910      F    AK     14\n",
      "1   2     Annie  1910      F    AK     12\n",
      "2   3      Anna  1910      F    AK     10\n",
      "3   4  Margaret  1910      F    AK      8\n",
      "4   5     Helen  1910      F    AK      7\n",
      "Кількість унікальних імен для кожної статі:\n",
      "Gender\n",
      "F    20031\n",
      "M    13139\n",
      "Name: Name, dtype: int64\n"
     ]
    }
   ],
   "source": [
    "#6\n",
    "import pandas as pd\n",
    "\n",
    "file_path = r'D:\\zip\\StateNames.csv' \n",
    "data = pd.read_csv(file_path)\n",
    "\n",
    "print(data.head())\n",
    "\n",
    "unique_names = data.groupby('Gender')['Name'].nunique()\n",
    "\n",
    "print(\"Кількість унікальних імен для кожної статі:\")\n",
    "print(unique_names)"
   ]
  },
  {
   "cell_type": "code",
   "execution_count": 28,
   "id": "5ba39726-8ef3-420f-b6b9-f6814d97eee0",
   "metadata": {},
   "outputs": [
    {
     "name": "stdout",
     "output_type": "stream",
     "text": [
      "5 найпопулярніших чоловічих імен у 2010 році:\n",
      "Name\n",
      "Jacob      22082\n",
      "Ethan      17985\n",
      "Michael    17308\n",
      "Jayden     17152\n",
      "William    17030\n",
      "Name: Count, dtype: int64\n"
     ]
    }
   ],
   "source": [
    "#7\n",
    "import pandas as pd\n",
    "\n",
    "file_path = r'D:\\zip\\StateNames.csv' \n",
    "data = pd.read_csv(file_path)\n",
    "\n",
    "data_2010_male = data[(data['Year'] == 2010) & (data['Gender'] == 'M')]\n",
    "\n",
    "popular_male_names = data_2010_male.groupby('Name')['Count'].sum()\n",
    "\n",
    "top_5_male_names = popular_male_names.nlargest(5)\n",
    "\n",
    "print(\"5 найпопулярніших чоловічих імен у 2010 році:\")\n",
    "print(top_5_male_names)"
   ]
  },
  {
   "cell_type": "code",
   "execution_count": 30,
   "id": "78ae7b09-2375-4f10-97f4-68966fb1cf89",
   "metadata": {},
   "outputs": [
    {
     "name": "stdout",
     "output_type": "stream",
     "text": [
      "Найпопулярніше ім'я за всі роки:\n",
      "Ім'я: Robert, Рік: 1947, Стать: M, Count: 10023\n"
     ]
    }
   ],
   "source": [
    "#8\n",
    "import pandas as pd\n",
    "\n",
    "file_path = r'D:\\zip\\StateNames.csv' \n",
    "data = pd.read_csv(file_path)\n",
    "\n",
    "most_popular_name = data.loc[data['Count'].idxmax()]\n",
    "\n",
    "print(\"Найпопулярніше ім'я за всі роки:\")\n",
    "print(f\"Ім'я: {most_popular_name['Name']}, Рік: {most_popular_name['Year']}, Стать: {most_popular_name['Gender']}, Count: {most_popular_name['Count']}\")"
   ]
  },
  {
   "cell_type": "code",
   "execution_count": 32,
   "id": "f49fdd74-0244-4294-81ee-aa60f4df5f83",
   "metadata": {},
   "outputs": [
    {
     "name": "stdout",
     "output_type": "stream",
     "text": [
      "Кількість унікальних імен у 2008 році: 9959\n",
      "Найпопулярніше ім'я у 2008 році:\n",
      "Ім'я: Daniel, Стать: M, Count: 3749\n"
     ]
    }
   ],
   "source": [
    "#12\n",
    "import pandas as pd\n",
    "\n",
    "file_path = r'D:\\zip\\StateNames.csv' \n",
    "data = pd.read_csv(file_path)\n",
    "\n",
    "data_2008 = data[data['Year'] == 2008]\n",
    "\n",
    "unique_names_2008 = data_2008['Name'].nunique()\n",
    "\n",
    "most_popular_name_2008 = data_2008.loc[data_2008['Count'].idxmax()]\n",
    "\n",
    "print(f\"Кількість унікальних імен у 2008 році: {unique_names_2008}\")\n",
    "print(\"Найпопулярніше ім'я у 2008 році:\")\n",
    "print(f\"Ім'я: {most_popular_name_2008['Name']}, Стать: {most_popular_name_2008['Gender']}, Count: {most_popular_name_2008['Count']}\")"
   ]
  },
  {
   "cell_type": "code",
   "execution_count": 34,
   "id": "1202670a-068b-488c-9230-b19eb84e0fdc",
   "metadata": {},
   "outputs": [
    {
     "name": "stdout",
     "output_type": "stream",
     "text": [
      "Рік, коли ім'я 'Jacob' було найпопулярнішим серед жіночих імен: 2004\n"
     ]
    }
   ],
   "source": [
    "#13\n",
    "import pandas as pd\n",
    "\n",
    "file_path = r'D:\\zip\\StateNames.csv'\n",
    "data = pd.read_csv(file_path)\n",
    "\n",
    "jacob_female = data[(data['Name'] == 'Jacob') & (data['Gender'] == 'F')]\n",
    "\n",
    "most_popular_year = jacob_female.loc[jacob_female['Count'].idxmax(), 'Year']\n",
    "\n",
    "print(f\"Рік, коли ім'я 'Jacob' було найпопулярнішим серед жіночих імен: {most_popular_year}\")\n"
   ]
  },
  {
   "cell_type": "code",
   "execution_count": 36,
   "id": "1d5f022c-6e7d-49d3-89e0-343afb4bb526",
   "metadata": {},
   "outputs": [
    {
     "name": "stdout",
     "output_type": "stream",
     "text": [
      "Рік із найбільшою кількістю гендерно нейтральних імен: 2004\n",
      "Кількість гендерно нейтральних імен у цьому році: 745\n"
     ]
    }
   ],
   "source": [
    "#14\n",
    "import pandas as pd\n",
    "\n",
    "file_path = r'D:\\zip\\StateNames.csv'\n",
    "data = pd.read_csv(file_path)\n",
    "\n",
    "name_gender_year = data.groupby(['Name', 'Year', 'Gender'])['Count'].sum().unstack()\n",
    "\n",
    "gender_neutral = name_gender_year.dropna()  \n",
    "\n",
    "neutral_counts_per_year = gender_neutral.groupby('Year').size()\n",
    "\n",
    "most_neutral_year = neutral_counts_per_year.idxmax()\n",
    "most_neutral_count = neutral_counts_per_year.max()\n",
    "\n",
    "print(f\"Рік із найбільшою кількістю гендерно нейтральних імен: {most_neutral_year}\")\n",
    "print(f\"Кількість гендерно нейтральних імен у цьому році: {most_neutral_count}\")\n"
   ]
  },
  {
   "cell_type": "code",
   "execution_count": 38,
   "id": "328be2d6-2a73-4778-b193-a03e14150332",
   "metadata": {},
   "outputs": [
    {
     "name": "stdout",
     "output_type": "stream",
     "text": [
      "Загальна кількість народжень за кожен рік:\n",
      "Year\n",
      "1910     516318\n",
      "1911     565810\n",
      "1912     887984\n",
      "1913    1028553\n",
      "1914    1293322\n",
      "         ...   \n",
      "2010    3116548\n",
      "2011    3079145\n",
      "2012    3073858\n",
      "2013    3066443\n",
      "2014    3113611\n",
      "Name: Count, Length: 105, dtype: int64\n",
      "Загальна кількість народжень за всі роки: 298883326\n"
     ]
    }
   ],
   "source": [
    "#15\n",
    "import pandas as pd\n",
    "\n",
    "file_path = r'D:\\zip\\StateNames.csv'\n",
    "data = pd.read_csv(file_path)\n",
    "\n",
    "births_per_year = data.groupby('Year')['Count'].sum()\n",
    "\n",
    "print(\"Загальна кількість народжень за кожен рік:\")\n",
    "print(births_per_year)\n",
    "\n",
    "total_births = births_per_year.sum()\n",
    "print(f\"Загальна кількість народжень за всі роки: {total_births}\")\n"
   ]
  },
  {
   "cell_type": "code",
   "execution_count": 40,
   "id": "a2b0226d-c28f-4225-a9b6-762fe823b8dd",
   "metadata": {},
   "outputs": [
    {
     "name": "stdout",
     "output_type": "stream",
     "text": [
      "Рік, коли народилося найбільше дітей: 1957\n",
      "Кількість народжень у цьому році: 4002231\n"
     ]
    }
   ],
   "source": [
    "#16\n",
    "import pandas as pd\n",
    "\n",
    "file_path = r'D:\\zip\\StateNames.csv'\n",
    "data = pd.read_csv(file_path)\n",
    "\n",
    "births_per_year = data.groupby('Year')['Count'].sum()\n",
    "\n",
    "year_with_max_births = births_per_year.idxmax()\n",
    "max_births = births_per_year.max()\n",
    "\n",
    "print(f\"Рік, коли народилося найбільше дітей: {year_with_max_births}\")\n",
    "print(f\"Кількість народжень у цьому році: {max_births}\")\n"
   ]
  },
  {
   "cell_type": "code",
   "execution_count": 42,
   "id": "f677814d-3129-42d0-a406-b7a7d4bb6fe3",
   "metadata": {},
   "outputs": [
    {
     "name": "stdout",
     "output_type": "stream",
     "text": [
      "Кількість дівчаток та хлопчиків, які народились кожного року:\n",
      "Gender    Girls     Boys\n",
      "Year                    \n",
      "1910     352089   164229\n",
      "1911     372371   193439\n",
      "1912     504283   383701\n",
      "1913     566950   461603\n",
      "1914     696886   596436\n",
      "...         ...      ...\n",
      "2010    1439346  1677202\n",
      "2011    1422539  1656606\n",
      "2012    1422020  1651838\n",
      "2013    1419351  1647092\n",
      "2014    1446259  1667352\n",
      "\n",
      "[105 rows x 2 columns]\n"
     ]
    }
   ],
   "source": [
    "#17\n",
    "import pandas as pd\n",
    "\n",
    "file_path = r'D:\\zip\\StateNames.csv'\n",
    "data = pd.read_csv(file_path)\n",
    "\n",
    "births_by_gender = data.groupby(['Year', 'Gender'])['Count'].sum().unstack()\n",
    "\n",
    "births_by_gender.rename(columns={'F': 'Girls', 'M': 'Boys'}, inplace=True)\n",
    "\n",
    "print(\"Кількість дівчаток та хлопчиків, які народились кожного року:\")\n",
    "print(births_by_gender)\n",
    "\n",
    "births_by_gender.to_csv(r'D:\\zip\\births_by_gender.csv')\n"
   ]
  },
  {
   "cell_type": "code",
   "execution_count": 44,
   "id": "c976b08e-10df-46b0-8e96-df1cc2a19e8c",
   "metadata": {},
   "outputs": [
    {
     "data": {
      "image/png": "[encoded data removed]",
      "text/plain": [
       "<Figure size 1200x600 with 1 Axes>"
      ]
     },
     "metadata": {},
     "output_type": "display_data"
    }
   ],
   "source": [
    "#19\n",
    "import pandas as pd\n",
    "import matplotlib.pyplot as plt\n",
    "\n",
    "file_path = r'D:\\zip\\StateNames.csv'\n",
    "data = pd.read_csv(file_path)\n",
    "\n",
    "births_by_gender = data.groupby(['Year', 'Gender'])['Count'].sum().unstack()\n",
    "\n",
    "births_by_gender.rename(columns={'F': 'Girls', 'M': 'Boys'}, inplace=True)\n",
    "\n",
    "plt.figure(figsize=(12, 6))\n",
    "plt.plot(births_by_gender.index, births_by_gender['Girls'], label='Girls', color='pink', linewidth=2)\n",
    "plt.plot(births_by_gender.index, births_by_gender['Boys'], label='Boys', color='blue', linewidth=2)\n",
    "\n",
    "plt.title('Загальна кількість народжень хлопчиків та дівчаток на рік', fontsize=16)\n",
    "plt.xlabel('Рік', fontsize=12)\n",
    "plt.ylabel('Кількість народжень', fontsize=12)\n",
    "plt.legend(fontsize=12)\n",
    "plt.grid(alpha=0.3)\n",
    "plt.tight_layout()\n",
    "\n",
    "plt.show()\n"
   ]
  },
  {
   "cell_type": "code",
   "execution_count": 46,
   "id": "e9e8ed00-67af-40cd-bea5-1af5be858cb0",
   "metadata": {},
   "outputs": [
    {
     "name": "stdout",
     "output_type": "stream",
     "text": [
      "Кількість гендерно-нейтральних імен: 2896\n"
     ]
    }
   ],
   "source": [
    "#20\n",
    "import pandas as pd\n",
    "\n",
    "file_path = r'D:\\zip\\StateNames.csv'\n",
    "data = pd.read_csv(file_path)\n",
    "\n",
    "name_gender_counts = data.groupby(['Name', 'Gender'])['Count'].sum().unstack()\n",
    "\n",
    "gender_neutral_names = name_gender_counts.dropna()\n",
    "\n",
    "count_gender_neutral_names = len(gender_neutral_names)\n",
    "\n",
    "print(f\"Кількість гендерно-нейтральних імен: {count_gender_neutral_names}\")\n"
   ]
  },
  {
   "cell_type": "code",
   "execution_count": null,
   "id": "bfc4ec12-8d03-428b-9d56-0d62af5c73ec",
   "metadata": {},
   "outputs": [],
   "source": []
  }
 ],
 "metadata": {
  "kernelspec": {
   "display_name": "Python 3 (ipykernel)",
   "language": "python",
   "name": "python3"
  },
  "language_info": {
   "codemirror_mode": {
    "name": "ipython",
    "version": 3
   },
   "file_extension": ".py",
   "mimetype": "text/x-python",
   "name": "python",
   "nbconvert_exporter": "python",
   "pygments_lexer": "ipython3",
   "version": "3.12.7"
  }
 },
 "nbformat": 4,
 "nbformat_minor": 5
}
